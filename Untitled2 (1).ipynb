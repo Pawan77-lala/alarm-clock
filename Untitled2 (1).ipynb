{
  "nbformat": 4,
  "nbformat_minor": 0,
  "metadata": {
    "colab": {
      "name": "Untitled2.ipynb",
      "provenance": []
    },
    "kernelspec": {
      "name": "python3",
      "display_name": "Python 3"
    }
  },
  "cells": [
    {
      "cell_type": "code",
      "metadata": {
        "colab": {
          "base_uri": "https://localhost:8080/"
        },
        "id": "tW-U4RnyTGsD",
        "outputId": "a60b4ddc-56c6-4eee-90c1-0906eb5e6018"
      },
      "source": [
        "def xyz(a,b):\r\n",
        "   return a+b\r\n",
        "n=int(input(\"enter a\"))\r\n",
        "m=int(input(\"enter b\"))\r\n",
        "c=xyz(1,2)\r\n",
        "print(c)"
      ],
      "execution_count": null,
      "outputs": [
        {
          "output_type": "stream",
          "text": [
            "enter a1\n",
            "enter b2\n",
            "3\n"
          ],
          "name": "stdout"
        }
      ]
    },
    {
      "cell_type": "code",
      "metadata": {
        "colab": {
          "base_uri": "https://localhost:8080/"
        },
        "id": "T5qsGs3jNIk7",
        "outputId": "80fa284d-0af6-4ac8-bde2-b892876fdee7"
      },
      "source": [
        "height=int(input(\"enter height meter:\"))\r\n",
        "input=int(input(\"enter weight in kilogram:\"))\r\n",
        "def solve(a,b):\r\n",
        "  BMI=a/b**2\r\n",
        "  print(BMI)\r\n",
        "\r\n",
        "solve(height,input)\r\n"
      ],
      "execution_count": null,
      "outputs": [
        {
          "output_type": "stream",
          "text": [
            "enter height meter:70\n",
            "enter weight in kilogram:60\n",
            "0.019444444444444445\n"
          ],
          "name": "stdout"
        }
      ]
    },
    {
      "cell_type": "code",
      "metadata": {
        "id": "0MlIKQLZRgmr",
        "colab": {
          "base_uri": "https://localhost:8080/"
        },
        "outputId": "bf89dd6d-07ce-4bdb-d47e-7fce130340a0"
      },
      "source": [
        "import os\r\n",
        "import datetime\r\n",
        "import time\r\n",
        "c,b,a=input(\"enter the date = \").split(\"/\")\r\n",
        "hr,minn=input(\"enter the time = \").split(\":\")\r\n",
        "\r\n",
        "schdule_date=datetime.date(int(a),int(b),int(c))\r\n",
        "print(time.localtime().tm_hour)\r\n",
        "n=1\r\n",
        "while n>0:\r\n",
        "   if time.localtime().tm_hour==int(hr) and time.localtime().tm_min==int(minn)  and datetime.date.today()==shedule_date:\r\n",
        "     #os.startfile('C:\\\\Users\\\\pawan\\\\Videos')\r\n",
        "     print(\"weep\")\r\n",
        "     break\r\n",
        "   else:\r\n",
        "       n+=1\r\n",
        "\r\n"
      ],
      "execution_count": null,
      "outputs": [
        {
          "output_type": "stream",
          "text": [
            "enter the date = 21/01/2021\n",
            "enter the time = 12:33\n",
            "7\n"
          ],
          "name": "stdout"
        }
      ]
    },
    {
      "cell_type": "code",
      "metadata": {
        "colab": {
          "base_uri": "https://localhost:8080/",
          "height": 128
        },
        "id": "f41bSb6fX6N6",
        "outputId": "81b414ec-e739-4670-ec6b-ce9cc112989e"
      },
      "source": [
        ""
      ],
      "execution_count": null,
      "outputs": [
        {
          "output_type": "error",
          "ename": "SyntaxError",
          "evalue": "ignored",
          "traceback": [
            "\u001b[0;36m  File \u001b[0;32m\"<ipython-input-2-9913609e4288>\"\u001b[0;36m, line \u001b[0;32m9\u001b[0m\n\u001b[0;31m    now = current_time.strftime(“%H:%M:%S”)\u001b[0m\n\u001b[0m                                ^\u001b[0m\n\u001b[0;31mSyntaxError\u001b[0m\u001b[0;31m:\u001b[0m invalid character in identifier\n"
          ]
        }
      ]
    },
    {
      "cell_type": "code",
      "metadata": {
        "id": "CzPgsDsQM2AK"
      },
      "source": [
        "height="
      ],
      "execution_count": null,
      "outputs": []
    },
    {
      "cell_type": "code",
      "metadata": {
        "colab": {
          "base_uri": "https://localhost:8080/"
        },
        "id": "u-dx5Q-KqXFg",
        "outputId": "2d4b3b40-afda-49fe-b131-1ba261d27b7e"
      },
      "source": [
        "lower = 900\r\n",
        "upper = 1000\r\n",
        "\r\n",
        "print(\"Prime numbers between\", lower, \"and\", upper, \"are:\")\r\n",
        "\r\n",
        "for num in range(lower, upper + 1):\r\n",
        "   \r\n",
        "   if num > 1:\r\n",
        "       for i in range(2, num):\r\n",
        "           if (num % i) == 0:\r\n",
        "               break\r\n",
        "       else:\r\n",
        "           print(num)"
      ],
      "execution_count": null,
      "outputs": [
        {
          "output_type": "stream",
          "text": [
            "Prime numbers between 900 and 1000 are:\n",
            "907\n",
            "911\n",
            "919\n",
            "929\n",
            "937\n",
            "941\n",
            "947\n",
            "953\n",
            "967\n",
            "971\n",
            "977\n",
            "983\n",
            "991\n",
            "997\n"
          ],
          "name": "stdout"
        }
      ]
    },
    {
      "cell_type": "code",
      "metadata": {
        "colab": {
          "base_uri": "https://localhost:8080/"
        },
        "id": "QMQDVoZxW7Bi",
        "outputId": "add99341-adcc-48b6-9c82-c6b04c4d6f6c"
      },
      "source": [
        "c=lambda a,b:a+b\r\n",
        "n=int(input(\"enter a\"))\r\n",
        "m=int(input(\"enter b\"))\r\n",
        "print(c(n,m))"
      ],
      "execution_count": null,
      "outputs": [
        {
          "output_type": "stream",
          "text": [
            "enter a5\n",
            "enter b7\n",
            "12\n"
          ],
          "name": "stdout"
        }
      ]
    },
    {
      "cell_type": "code",
      "metadata": {
        "colab": {
          "base_uri": "https://localhost:8080/"
        },
        "id": "x-WOPvfyW-JN",
        "outputId": "c8a180c1-a660-4709-c285-be4b5592fba5"
      },
      "source": [
        "c=lambda a,b,c:a*b*c-a*b\r\n",
        "n=int(input(\"enter a\"))\r\n",
        "m=int(input(\"enter b\"))\r\n",
        "v=int(input(\"enter c\"))\r\n",
        "print(c(n,m,v))\r\n"
      ],
      "execution_count": null,
      "outputs": [
        {
          "output_type": "stream",
          "text": [
            "enter a5\n",
            "enter b6\n",
            "enter c7\n",
            "180\n"
          ],
          "name": "stdout"
        }
      ]
    },
    {
      "cell_type": "code",
      "metadata": {
        "colab": {
          "base_uri": "https://localhost:8080/"
        },
        "id": "6-bmYcb_Zxmq",
        "outputId": "0ebc5f5a-273e-497f-ba37-bcb3db5055f6"
      },
      "source": [
        "# map function\r\n",
        "def xyz(n):\r\n",
        "  return n*n\r\n",
        "l=[1,2,4,7]\r\n",
        "c=map(xyz,l)\r\n",
        "print(list(c))\r\n"
      ],
      "execution_count": null,
      "outputs": [
        {
          "output_type": "stream",
          "text": [
            "[1, 4, 16, 49]\n"
          ],
          "name": "stdout"
        }
      ]
    },
    {
      "cell_type": "code",
      "metadata": {
        "colab": {
          "base_uri": "https://localhost:8080/"
        },
        "id": "Ed10TiBewfEV",
        "outputId": "794e6930-c902-46cf-8a87-148f374ff529"
      },
      "source": [
        "def xyz(n):\r\n",
        "  return n*n\r\n",
        "d=lambda n:n*n\r\n",
        "l=[3,5,9]\r\n",
        "c=map(d,l)\r\n",
        "print(set(c))"
      ],
      "execution_count": null,
      "outputs": [
        {
          "output_type": "stream",
          "text": [
            "{81, 9, 25}\n"
          ],
          "name": "stdout"
        }
      ]
    },
    {
      "cell_type": "code",
      "metadata": {
        "colab": {
          "base_uri": "https://localhost:8080/"
        },
        "id": "lQjt1VXXw8ha",
        "outputId": "31b0698a-7e78-4e68-98d9-3c7a7de4d2ca"
      },
      "source": [
        "c=[3,4,5]\r\n",
        "d=[9,6,1]\r\n",
        "\r\n",
        "def mul(x,y):\r\n",
        " return x*y\r\n",
        "a=map(mul,c,d)\r\n",
        "print(list(a))"
      ],
      "execution_count": null,
      "outputs": [
        {
          "output_type": "stream",
          "text": [
            "[27, 24, 5]\n"
          ],
          "name": "stdout"
        }
      ]
    },
    {
      "cell_type": "code",
      "metadata": {
        "colab": {
          "base_uri": "https://localhost:8080/"
        },
        "id": "yvJFe1goyBwz",
        "outputId": "289bc024-eddf-49a0-d597-59d9ff3c676d"
      },
      "source": [
        "def xyz(n):\r\n",
        "  if (n%2==0):\r\n",
        "     return True\r\n",
        "  else:\r\n",
        "     return False\r\n",
        "l=[1,2,3,4,5]\r\n",
        "c=filter(xyz,l)\r\n",
        "print(list(c))"
      ],
      "execution_count": null,
      "outputs": [
        {
          "output_type": "stream",
          "text": [
            "[2, 4]\n"
          ],
          "name": "stdout"
        }
      ]
    },
    {
      "cell_type": "code",
      "metadata": {
        "colab": {
          "base_uri": "https://localhost:8080/"
        },
        "id": "hulp8MCo1Bal",
        "outputId": "e7bd843a-e882-4e87-b65a-17b3a9e60ed7"
      },
      "source": [
        "a=[3,5,-4,8,11,1,-1,6]\r\n",
        "target_sum=10\r\n",
        "b =[]\r\n",
        "def myfunc(a,target_sum):\r\n",
        "  for i in  a:\r\n",
        "   for j in a:\r\n",
        "       if i+j==target_sum and i!=j:\r\n",
        "         if i in b:\r\n",
        "           pass\r\n",
        "         else:\r\n",
        "           if j in b:\r\n",
        "             pass\r\n",
        "           else:\r\n",
        "            b.append(i)\r\n",
        "            b.append(j)\r\n",
        "myfunc(a,target_sum)\r\n",
        "print(b)\r\n",
        "\r\n"
      ],
      "execution_count": null,
      "outputs": [
        {
          "output_type": "stream",
          "text": [
            "[11, -1]\n"
          ],
          "name": "stdout"
        }
      ]
    },
    {
      "cell_type": "code",
      "metadata": {
        "colab": {
          "base_uri": "https://localhost:8080/"
        },
        "id": "VDSjlq3Rj9Le",
        "outputId": "1cbd33ed-7f67-4a87-f95b-0eb72b1bc420"
      },
      "source": [
        "#area of traingle\r\n",
        "\r\n",
        "a=5\r\n",
        "b=6\r\n",
        "c=7\r\n",
        "\r\n",
        "S=(a+b+c)/2\r\n",
        "\r\n",
        "area = (s*(s-a)*(s-b)*(s-c)) ** 0.5\r\n",
        "print ('The area of the trangle is' ,area)"
      ],
      "execution_count": null,
      "outputs": [
        {
          "output_type": "stream",
          "text": [
            "The area of the trangle is 93.70999146302384\n"
          ],
          "name": "stdout"
        }
      ]
    },
    {
      "cell_type": "code",
      "metadata": {
        "colab": {
          "base_uri": "https://localhost:8080/"
        },
        "id": "53aSLm5OpWXX",
        "outputId": "ca7cf669-d7ca-451d-b4e0-cd458527e2ea"
      },
      "source": [
        "#quadratic equation\r\n",
        "import cmath\r\n",
        "\r\n",
        "a=1\r\n",
        "b=5\r\n",
        "c=6\r\n",
        "\r\n",
        "d=(b**2)-(4*a*c)\r\n",
        "\r\n",
        "sol1=(-b-cmath.sqrt(d))/(2*a)\r\n",
        "\r\n",
        "sol2=(-b+cmath.sqrt(d))/(2*a)\r\n",
        "\r\n",
        "print('the solution are {0} and {1}'.format(sol1,sol2))"
      ],
      "execution_count": null,
      "outputs": [
        {
          "output_type": "stream",
          "text": [
            "the solution are (-3+0j) and (-2+0j)\n"
          ],
          "name": "stdout"
        }
      ]
    },
    {
      "cell_type": "code",
      "metadata": {
        "colab": {
          "base_uri": "https://localhost:8080/"
        },
        "id": "JZ7UuQb3t-0I",
        "outputId": "45ce03a3-3a9e-4a0f-9415-43506baef27a"
      },
      "source": [
        "#swapping\r\n",
        "x=54\r\n",
        "y=43\r\n",
        "\r\n",
        "temp=x\r\n",
        "x=y\r\n",
        "y=temp\r\n",
        "\r\n",
        "print('the number x after swapping:{}'.format(x))\r\n",
        "print('the number y after swapping:{} '.format(y))"
      ],
      "execution_count": null,
      "outputs": [
        {
          "output_type": "stream",
          "text": [
            "the number x after swapping:43\n",
            "the number y after swapping:54 \n"
          ],
          "name": "stdout"
        }
      ]
    },
    {
      "cell_type": "code",
      "metadata": {
        "colab": {
          "base_uri": "https://localhost:8080/"
        },
        "id": "DUsvO7RQv482",
        "outputId": "a17846d5-335f-4552-a10b-648b8ca4382d"
      },
      "source": [
        "import random\r\n",
        "print (random.randint(0,9))"
      ],
      "execution_count": null,
      "outputs": [
        {
          "output_type": "stream",
          "text": [
            "6\n"
          ],
          "name": "stdout"
        }
      ]
    },
    {
      "cell_type": "code",
      "metadata": {
        "colab": {
          "base_uri": "https://localhost:8080/"
        },
        "id": "a9EYJBSDwDI0",
        "outputId": "a48e7337-da57-43b3-bb4e-1fa795a24eaa"
      },
      "source": [
        "import random\r\n",
        "l=[\"kirat boli\",\"N.S nodhi\",\"R rumrah\",\"shashi henra\"]\r\n",
        "player_dict= {\"kirat boli\":[5,30,25,10,15,1,9,5],\"N.S nodhi\":[10,40,20,5,10,1,4,10],\"R rumrah\":[20,30,15,5,5,1,4,20],\"shashi henra\":[30,25,5,0,5,1,4,30]}\r\n",
        "player_run={\"kirat boli\":[0,0],\"N.S nodhi\":[0,0],\"R rumrah\":[0,0],\"shashi henra\":[0,0]}\r\n",
        "strike=\"kirat boli\"\r\n",
        "non_strike=\"N.S nodhi\"\r\n",
        "x=1\r\n",
        "run=[0,1,2,3,4,5,6,-1]\r\n",
        "over=[1,2,3,4]\r\n",
        "ball=[1,2,3,4,5,6]\r\n",
        "for i in over:\r\n",
        "   for j in ball:\r\n",
        "     for z in l:\r\n",
        "       if z==strike:\r\n",
        "          random_variable=random.choices(run,player_dict[strike],k=1)\r\n",
        "          if random_variable[0]==-1:\r\n",
        "            x=x+1\r\n",
        "            player_run[strike][1]=player_run[strike][1]+1\r\n",
        "            print(\"out\",strike,\"at\",i,\",\",j+1)\r\n",
        "            \r\n",
        "            if x<4:\r\n",
        "              strike=l[x]\r\n",
        "              print(\"new player coming to a batting\",strike)\r\n",
        "            else:\r\n",
        "                strike=\"\"\r\n",
        "                break\r\n",
        "          else:\r\n",
        "              if random_variable[0]%2==0:\r\n",
        "                player_run[strike][0]=player_run[strike][0]+random_variable[0]\r\n",
        "                player_run[strike][1]=player_run[strike][1]+1\r\n",
        "                print(strike,\"hits\",random_variable,\"run\",\"at\",i,\".\",j+1)\r\n",
        "              else:\r\n",
        "                  player_run[strike][0]=player_run[strike][0]+random_variable[0]\r\n",
        "                  player_run[strike][1]=player_run[strike][1]+1\r\n",
        "                  print(strike,\"hits\",random_variable,\"run\",\"at\",i,\".\",j+1)\r\n",
        "                  temp=strike\r\n",
        "                  strike=non_strike\r\n",
        "                  non_strike=temp\r\n",
        "          break\r\n",
        "     if x>3: \r\n",
        "        break\r\n",
        "   print(\"---------------\",i,\"over finish--------------------\")\r\n",
        "   if(x<3):\r\n",
        "     if i<3:\r\n",
        "       temp=strike\r\n",
        "       strike=non_strike\r\n",
        "       non_strike=temp\r\n",
        "     else:\r\n",
        "       print(\"--------------------------------End Match---------------------------\")\r\n",
        "   else:\r\n",
        "     print(\"-----------------------------End Match----------------------------\")\r\n",
        "     print(\"----------------------------All out----------------------\")\r\n",
        "     break\r\n",
        "\r\n",
        "\r\n",
        "    \r\n",
        "for m,n in player_run.items():\r\n",
        "    if m==strike:\r\n",
        "      print(m,\":\",n[0],\"* (\",n[1],\")\")\r\n",
        "    else:\r\n",
        "      print(m,\":\",n[0],\"(\",n[1],\")\")\r\n",
        "\r\n",
        "\r\n",
        "             \r\n",
        "             \r\n",
        "\r\n",
        "           \r\n",
        "\r\n",
        "\r\n",
        "\r\n",
        "\r\n",
        "    \r\n"
      ],
      "execution_count": null,
      "outputs": [
        {
          "output_type": "stream",
          "text": [
            "kirat boli hits [4] run at 1 . 2\n",
            "kirat boli hits [1] run at 1 . 3\n",
            "N.S nodhi hits [1] run at 1 . 4\n",
            "kirat boli hits [6] run at 1 . 5\n",
            "kirat boli hits [1] run at 1 . 6\n",
            "N.S nodhi hits [1] run at 1 . 7\n",
            "--------------- 1 over finish--------------------\n",
            "N.S nodhi hits [0] run at 2 . 2\n",
            "N.S nodhi hits [2] run at 2 . 3\n",
            "N.S nodhi hits [2] run at 2 . 4\n",
            "N.S nodhi hits [6] run at 2 . 5\n",
            "N.S nodhi hits [6] run at 2 . 6\n",
            "out N.S nodhi at 2 , 7\n",
            "new player coming to a batting R rumrah\n",
            "--------------- 2 over finish--------------------\n",
            "kirat boli hits [6] run at 3 . 2\n",
            "kirat boli hits [1] run at 3 . 3\n",
            "R rumrah hits [2] run at 3 . 4\n",
            "R rumrah hits [1] run at 3 . 5\n",
            "kirat boli hits [2] run at 3 . 6\n",
            "kirat boli hits [4] run at 3 . 7\n",
            "--------------- 3 over finish--------------------\n",
            "--------------------------------End Match---------------------------\n",
            "kirat boli hits [1] run at 4 . 2\n",
            "R rumrah hits [2] run at 4 . 3\n",
            "R rumrah hits [0] run at 4 . 4\n",
            "R rumrah hits [0] run at 4 . 5\n",
            "R rumrah hits [6] run at 4 . 6\n",
            "R rumrah hits [1] run at 4 . 7\n",
            "--------------- 4 over finish--------------------\n",
            "--------------------------------End Match---------------------------\n",
            "kirat boli : 26 * ( 9 )\n",
            "N.S nodhi : 18 ( 8 )\n",
            "R rumrah : 12 ( 7 )\n",
            "shashi henra : 0 ( 0 )\n"
          ],
          "name": "stdout"
        }
      ]
    },
    {
      "cell_type": "code",
      "metadata": {
        "id": "Lz40160MhUjr"
      },
      "source": [
        ""
      ],
      "execution_count": null,
      "outputs": []
    },
    {
      "cell_type": "code",
      "metadata": {
        "colab": {
          "base_uri": "https://localhost:8080/"
        },
        "id": "F7U2tEhI20wG",
        "outputId": "ab68c709-0fd8-455f-aa39-788f65011c39"
      },
      "source": [
        "\r\n",
        "num1 = 10\r\n",
        "num2 = 14\r\n",
        "num3 = 12\r\n",
        "\r\n",
        "if (num1 >= num2) and (num1 >= num3):\r\n",
        "   largest = num1\r\n",
        "elif (num2 >= num1) and (num2 >= num3):\r\n",
        "   largest = num2\r\n",
        "else:\r\n",
        "   largest = num3\r\n",
        "\r\n",
        "print(\"The largest number is\", largest)"
      ],
      "execution_count": null,
      "outputs": [
        {
          "output_type": "stream",
          "text": [
            "The largest number is 14\n"
          ],
          "name": "stdout"
        }
      ]
    }
  ]
}